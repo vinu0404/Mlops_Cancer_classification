{
 "cells": [
  {
   "cell_type": "code",
   "execution_count": 3,
   "metadata": {},
   "outputs": [
    {
     "name": "stdout",
     "output_type": "stream",
     "text": [
      "Collecting dagshub\n",
      "  Downloading dagshub-0.4.2-py3-none-any.whl.metadata (11 kB)\n",
      "Requirement already satisfied: PyYAML>=5 in c:\\users\\pc\\anaconda3\\envs\\myenv\\lib\\site-packages (from dagshub) (6.0.2)\n",
      "Requirement already satisfied: appdirs>=1.4.4 in c:\\users\\pc\\anaconda3\\envs\\myenv\\lib\\site-packages (from dagshub) (1.4.4)\n",
      "Requirement already satisfied: click>=8.0.4 in c:\\users\\pc\\anaconda3\\envs\\myenv\\lib\\site-packages (from dagshub) (8.1.8)\n",
      "Collecting httpx>=0.23.0 (from dagshub)\n",
      "  Downloading httpx-0.28.1-py3-none-any.whl.metadata (7.1 kB)\n",
      "Requirement already satisfied: GitPython>=3.1.29 in c:\\users\\pc\\anaconda3\\envs\\myenv\\lib\\site-packages (from dagshub) (3.1.43)\n",
      "Requirement already satisfied: rich>=13.1.0 in c:\\users\\pc\\anaconda3\\envs\\myenv\\lib\\site-packages (from dagshub) (13.9.4)\n",
      "Collecting dacite~=1.6.0 (from dagshub)\n",
      "  Downloading dacite-1.6.0-py3-none-any.whl.metadata (14 kB)\n",
      "Collecting tenacity>=8.2.2 (from dagshub)\n",
      "  Downloading tenacity-9.0.0-py3-none-any.whl.metadata (1.2 kB)\n",
      "Collecting gql[requests] (from dagshub)\n",
      "  Downloading gql-3.5.0-py2.py3-none-any.whl.metadata (9.2 kB)\n",
      "Collecting dataclasses-json (from dagshub)\n",
      "  Downloading dataclasses_json-0.6.7-py3-none-any.whl.metadata (25 kB)\n",
      "Requirement already satisfied: pandas in c:\\users\\pc\\anaconda3\\envs\\myenv\\lib\\site-packages (from dagshub) (2.0.3)\n",
      "Collecting treelib>=1.6.4 (from dagshub)\n",
      "  Downloading treelib-1.7.0-py3-none-any.whl.metadata (1.3 kB)\n",
      "Collecting pathvalidate>=3.0.0 (from dagshub)\n",
      "  Downloading pathvalidate-3.2.1-py3-none-any.whl.metadata (12 kB)\n",
      "Requirement already satisfied: python-dateutil in c:\\users\\pc\\anaconda3\\envs\\myenv\\lib\\site-packages (from dagshub) (2.9.0)\n",
      "Collecting boto3 (from dagshub)\n",
      "  Downloading boto3-1.35.90-py3-none-any.whl.metadata (6.7 kB)\n",
      "Collecting dagshub-annotation-converter>=0.1.0 (from dagshub)\n",
      "  Downloading dagshub_annotation_converter-0.1.2-py3-none-any.whl.metadata (2.5 kB)\n",
      "Requirement already satisfied: colorama in c:\\users\\pc\\anaconda3\\envs\\myenv\\lib\\site-packages (from click>=8.0.4->dagshub) (0.4.6)\n",
      "Collecting lxml (from dagshub-annotation-converter>=0.1.0->dagshub)\n",
      "  Downloading lxml-5.3.0-cp38-cp38-win_amd64.whl.metadata (3.9 kB)\n",
      "Requirement already satisfied: pillow in c:\\users\\pc\\anaconda3\\envs\\myenv\\lib\\site-packages (from dagshub-annotation-converter>=0.1.0->dagshub) (10.4.0)\n",
      "Requirement already satisfied: pydantic>=2.0.0 in c:\\users\\pc\\anaconda3\\envs\\myenv\\lib\\site-packages (from dagshub-annotation-converter>=0.1.0->dagshub) (2.10.4)\n",
      "Requirement already satisfied: typing-extensions in c:\\users\\pc\\anaconda3\\envs\\myenv\\lib\\site-packages (from dagshub-annotation-converter>=0.1.0->dagshub) (4.12.2)\n",
      "Requirement already satisfied: gitdb<5,>=4.0.1 in c:\\users\\pc\\anaconda3\\envs\\myenv\\lib\\site-packages (from GitPython>=3.1.29->dagshub) (4.0.11)\n",
      "Collecting anyio (from httpx>=0.23.0->dagshub)\n",
      "  Using cached anyio-4.5.2-py3-none-any.whl.metadata (4.7 kB)\n",
      "Requirement already satisfied: certifi in c:\\users\\pc\\anaconda3\\envs\\myenv\\lib\\site-packages (from httpx>=0.23.0->dagshub) (2024.12.14)\n",
      "Collecting httpcore==1.* (from httpx>=0.23.0->dagshub)\n",
      "  Downloading httpcore-1.0.7-py3-none-any.whl.metadata (21 kB)\n",
      "Requirement already satisfied: idna in c:\\users\\pc\\anaconda3\\envs\\myenv\\lib\\site-packages (from httpx>=0.23.0->dagshub) (3.10)\n",
      "Collecting h11<0.15,>=0.13 (from httpcore==1.*->httpx>=0.23.0->dagshub)\n",
      "  Downloading h11-0.14.0-py3-none-any.whl.metadata (8.2 kB)\n",
      "Requirement already satisfied: markdown-it-py>=2.2.0 in c:\\users\\pc\\anaconda3\\envs\\myenv\\lib\\site-packages (from rich>=13.1.0->dagshub) (3.0.0)\n",
      "Requirement already satisfied: pygments<3.0.0,>=2.13.0 in c:\\users\\pc\\anaconda3\\envs\\myenv\\lib\\site-packages (from rich>=13.1.0->dagshub) (2.18.0)\n",
      "Requirement already satisfied: six in c:\\users\\pc\\anaconda3\\envs\\myenv\\lib\\site-packages (from treelib>=1.6.4->dagshub) (1.16.0)\n",
      "Collecting botocore<1.36.0,>=1.35.90 (from boto3->dagshub)\n",
      "  Downloading botocore-1.35.90-py3-none-any.whl.metadata (5.7 kB)\n",
      "Collecting jmespath<2.0.0,>=0.7.1 (from boto3->dagshub)\n",
      "  Downloading jmespath-1.0.1-py3-none-any.whl.metadata (7.6 kB)\n",
      "Collecting s3transfer<0.11.0,>=0.10.0 (from boto3->dagshub)\n",
      "  Downloading s3transfer-0.10.4-py3-none-any.whl.metadata (1.7 kB)\n",
      "Collecting marshmallow<4.0.0,>=3.18.0 (from dataclasses-json->dagshub)\n",
      "  Downloading marshmallow-3.22.0-py3-none-any.whl.metadata (7.2 kB)\n",
      "Collecting typing-inspect<1,>=0.4.0 (from dataclasses-json->dagshub)\n",
      "  Downloading typing_inspect-0.9.0-py3-none-any.whl.metadata (1.5 kB)\n",
      "Collecting graphql-core<3.3,>=3.2 (from gql[requests]->dagshub)\n",
      "  Using cached graphql_core-3.2.5-py3-none-any.whl.metadata (10 kB)\n",
      "Requirement already satisfied: yarl<2.0,>=1.6 in c:\\users\\pc\\anaconda3\\envs\\myenv\\lib\\site-packages (from gql[requests]->dagshub) (1.15.2)\n",
      "Collecting backoff<3.0,>=1.11.1 (from gql[requests]->dagshub)\n",
      "  Downloading backoff-2.2.1-py3-none-any.whl.metadata (14 kB)\n",
      "Requirement already satisfied: requests<3,>=2.26 in c:\\users\\pc\\anaconda3\\envs\\myenv\\lib\\site-packages (from gql[requests]->dagshub) (2.32.3)\n",
      "Collecting requests-toolbelt<2,>=1.0.0 (from gql[requests]->dagshub)\n",
      "  Downloading requests_toolbelt-1.0.0-py2.py3-none-any.whl.metadata (14 kB)\n",
      "Requirement already satisfied: pytz>=2020.1 in c:\\users\\pc\\anaconda3\\envs\\myenv\\lib\\site-packages (from pandas->dagshub) (2022.7.1)\n",
      "Requirement already satisfied: tzdata>=2022.1 in c:\\users\\pc\\anaconda3\\envs\\myenv\\lib\\site-packages (from pandas->dagshub) (2024.2)\n",
      "Requirement already satisfied: numpy>=1.20.3 in c:\\users\\pc\\anaconda3\\envs\\myenv\\lib\\site-packages (from pandas->dagshub) (1.23.5)\n",
      "Collecting sniffio>=1.1 (from anyio->httpx>=0.23.0->dagshub)\n",
      "  Downloading sniffio-1.3.1-py3-none-any.whl.metadata (3.9 kB)\n",
      "Collecting exceptiongroup>=1.0.2 (from anyio->httpx>=0.23.0->dagshub)\n",
      "  Downloading exceptiongroup-1.2.2-py3-none-any.whl.metadata (6.6 kB)\n",
      "Collecting urllib3<1.27,>=1.25.4 (from botocore<1.36.0,>=1.35.90->boto3->dagshub)\n",
      "  Downloading urllib3-1.26.20-py2.py3-none-any.whl.metadata (50 kB)\n",
      "Requirement already satisfied: smmap<6,>=3.0.1 in c:\\users\\pc\\anaconda3\\envs\\myenv\\lib\\site-packages (from gitdb<5,>=4.0.1->GitPython>=3.1.29->dagshub) (5.0.1)\n",
      "Requirement already satisfied: mdurl~=0.1 in c:\\users\\pc\\anaconda3\\envs\\myenv\\lib\\site-packages (from markdown-it-py>=2.2.0->rich>=13.1.0->dagshub) (0.1.2)\n",
      "Requirement already satisfied: packaging>=17.0 in c:\\users\\pc\\anaconda3\\envs\\myenv\\lib\\site-packages (from marshmallow<4.0.0,>=3.18.0->dataclasses-json->dagshub) (23.2)\n",
      "Requirement already satisfied: annotated-types>=0.6.0 in c:\\users\\pc\\anaconda3\\envs\\myenv\\lib\\site-packages (from pydantic>=2.0.0->dagshub-annotation-converter>=0.1.0->dagshub) (0.7.0)\n",
      "Requirement already satisfied: pydantic-core==2.27.2 in c:\\users\\pc\\anaconda3\\envs\\myenv\\lib\\site-packages (from pydantic>=2.0.0->dagshub-annotation-converter>=0.1.0->dagshub) (2.27.2)\n",
      "Requirement already satisfied: charset-normalizer<4,>=2 in c:\\users\\pc\\anaconda3\\envs\\myenv\\lib\\site-packages (from requests<3,>=2.26->gql[requests]->dagshub) (3.4.0)\n",
      "Collecting mypy-extensions>=0.3.0 (from typing-inspect<1,>=0.4.0->dataclasses-json->dagshub)\n",
      "  Downloading mypy_extensions-1.0.0-py3-none-any.whl.metadata (1.1 kB)\n",
      "Requirement already satisfied: multidict>=4.0 in c:\\users\\pc\\anaconda3\\envs\\myenv\\lib\\site-packages (from yarl<2.0,>=1.6->gql[requests]->dagshub) (6.1.0)\n",
      "Requirement already satisfied: propcache>=0.2.0 in c:\\users\\pc\\anaconda3\\envs\\myenv\\lib\\site-packages (from yarl<2.0,>=1.6->gql[requests]->dagshub) (0.2.0)\n",
      "Downloading dagshub-0.4.2-py3-none-any.whl (255 kB)\n",
      "Downloading dacite-1.6.0-py3-none-any.whl (12 kB)\n",
      "Downloading dagshub_annotation_converter-0.1.2-py3-none-any.whl (33 kB)\n",
      "Downloading httpx-0.28.1-py3-none-any.whl (73 kB)\n",
      "Downloading httpcore-1.0.7-py3-none-any.whl (78 kB)\n",
      "Downloading pathvalidate-3.2.1-py3-none-any.whl (23 kB)\n",
      "Downloading tenacity-9.0.0-py3-none-any.whl (28 kB)\n",
      "Downloading treelib-1.7.0-py3-none-any.whl (18 kB)\n",
      "Downloading boto3-1.35.90-py3-none-any.whl (139 kB)\n",
      "Downloading dataclasses_json-0.6.7-py3-none-any.whl (28 kB)\n",
      "Downloading anyio-4.5.2-py3-none-any.whl (89 kB)\n",
      "Downloading backoff-2.2.1-py3-none-any.whl (15 kB)\n",
      "Downloading botocore-1.35.90-py3-none-any.whl (13.3 MB)\n",
      "   ---------------------------------------- 0.0/13.3 MB ? eta -:--:--\n",
      "   ---------------------------------------- 0.0/13.3 MB ? eta -:--:--\n",
      "    --------------------------------------- 0.3/13.3 MB ? eta -:--:--\n",
      "   - -------------------------------------- 0.5/13.3 MB 799.2 kB/s eta 0:00:16\n",
      "   - -------------------------------------- 0.5/13.3 MB 799.2 kB/s eta 0:00:16\n",
      "   -- ------------------------------------- 0.8/13.3 MB 860.9 kB/s eta 0:00:15\n",
      "   --- ------------------------------------ 1.0/13.3 MB 898.8 kB/s eta 0:00:14\n",
      "   --- ------------------------------------ 1.3/13.3 MB 907.1 kB/s eta 0:00:14\n",
      "   --- ------------------------------------ 1.3/13.3 MB 907.1 kB/s eta 0:00:14\n",
      "   ---- ----------------------------------- 1.6/13.3 MB 922.4 kB/s eta 0:00:13\n",
      "   ----- ---------------------------------- 1.8/13.3 MB 949.8 kB/s eta 0:00:13\n",
      "   ------ --------------------------------- 2.1/13.3 MB 970.9 kB/s eta 0:00:12\n",
      "   ------- -------------------------------- 2.4/13.3 MB 986.9 kB/s eta 0:00:12\n",
      "   ------- -------------------------------- 2.6/13.3 MB 993.4 kB/s eta 0:00:11\n",
      "   -------- ------------------------------- 2.9/13.3 MB 1.0 MB/s eta 0:00:11\n",
      "   --------- ------------------------------ 3.1/13.3 MB 1.0 MB/s eta 0:00:11\n",
      "   ---------- ----------------------------- 3.4/13.3 MB 1.0 MB/s eta 0:00:10\n",
      "   ----------- ---------------------------- 3.7/13.3 MB 1.0 MB/s eta 0:00:10\n",
      "   ----------- ---------------------------- 3.9/13.3 MB 1.0 MB/s eta 0:00:09\n",
      "   ------------ --------------------------- 4.2/13.3 MB 1.1 MB/s eta 0:00:09\n",
      "   ------------ --------------------------- 4.2/13.3 MB 1.1 MB/s eta 0:00:09\n",
      "   ------------- -------------------------- 4.5/13.3 MB 1.0 MB/s eta 0:00:09\n",
      "   -------------- ------------------------- 4.7/13.3 MB 1.0 MB/s eta 0:00:09\n",
      "   -------------- ------------------------- 4.7/13.3 MB 1.0 MB/s eta 0:00:09\n",
      "   -------------- ------------------------- 5.0/13.3 MB 1.0 MB/s eta 0:00:09\n",
      "   --------------- ------------------------ 5.2/13.3 MB 1.0 MB/s eta 0:00:08\n",
      "   ---------------- ----------------------- 5.5/13.3 MB 1.0 MB/s eta 0:00:08\n",
      "   ----------------- ---------------------- 5.8/13.3 MB 1.0 MB/s eta 0:00:08\n",
      "   ------------------ --------------------- 6.0/13.3 MB 1.0 MB/s eta 0:00:08\n",
      "   ------------------ --------------------- 6.3/13.3 MB 1.0 MB/s eta 0:00:07\n",
      "   ------------------ --------------------- 6.3/13.3 MB 1.0 MB/s eta 0:00:07\n",
      "   ------------------- -------------------- 6.6/13.3 MB 1.0 MB/s eta 0:00:07\n",
      "   -------------------- ------------------- 6.8/13.3 MB 1.0 MB/s eta 0:00:07\n",
      "   --------------------- ------------------ 7.1/13.3 MB 1.0 MB/s eta 0:00:07\n",
      "   ---------------------- ----------------- 7.3/13.3 MB 1.0 MB/s eta 0:00:06\n",
      "   ---------------------- ----------------- 7.6/13.3 MB 1.0 MB/s eta 0:00:06\n",
      "   ----------------------- ---------------- 7.9/13.3 MB 1.0 MB/s eta 0:00:06\n",
      "   ------------------------ --------------- 8.1/13.3 MB 1.0 MB/s eta 0:00:05\n",
      "   ------------------------- -------------- 8.4/13.3 MB 1.0 MB/s eta 0:00:05\n",
      "   -------------------------- ------------- 8.7/13.3 MB 1.1 MB/s eta 0:00:05\n",
      "   -------------------------- ------------- 8.9/13.3 MB 1.1 MB/s eta 0:00:05\n",
      "   --------------------------- ------------ 9.2/13.3 MB 1.1 MB/s eta 0:00:04\n",
      "   ---------------------------- ----------- 9.4/13.3 MB 1.1 MB/s eta 0:00:04\n",
      "   ---------------------------- ----------- 9.4/13.3 MB 1.1 MB/s eta 0:00:04\n",
      "   ----------------------------- ---------- 9.7/13.3 MB 1.1 MB/s eta 0:00:04\n",
      "   ----------------------------- ---------- 10.0/13.3 MB 1.1 MB/s eta 0:00:04\n",
      "   ------------------------------ --------- 10.2/13.3 MB 1.1 MB/s eta 0:00:03\n",
      "   ------------------------------- -------- 10.5/13.3 MB 1.1 MB/s eta 0:00:03\n",
      "   -------------------------------- ------- 10.7/13.3 MB 1.1 MB/s eta 0:00:03\n",
      "   --------------------------------- ------ 11.0/13.3 MB 1.1 MB/s eta 0:00:03\n",
      "   --------------------------------- ------ 11.3/13.3 MB 1.1 MB/s eta 0:00:02\n",
      "   ---------------------------------- ----- 11.5/13.3 MB 1.1 MB/s eta 0:00:02\n",
      "   ----------------------------------- ---- 11.8/13.3 MB 1.1 MB/s eta 0:00:02\n",
      "   ------------------------------------ --- 12.1/13.3 MB 1.1 MB/s eta 0:00:02\n",
      "   ------------------------------------- -- 12.3/13.3 MB 1.1 MB/s eta 0:00:01\n",
      "   ------------------------------------- -- 12.6/13.3 MB 1.1 MB/s eta 0:00:01\n",
      "   -------------------------------------- - 12.8/13.3 MB 1.1 MB/s eta 0:00:01\n",
      "   ---------------------------------------  13.1/13.3 MB 1.1 MB/s eta 0:00:01\n",
      "   ---------------------------------------- 13.3/13.3 MB 1.1 MB/s eta 0:00:00\n",
      "Using cached graphql_core-3.2.5-py3-none-any.whl (203 kB)\n",
      "Downloading jmespath-1.0.1-py3-none-any.whl (20 kB)\n",
      "Downloading marshmallow-3.22.0-py3-none-any.whl (49 kB)\n",
      "Downloading requests_toolbelt-1.0.0-py2.py3-none-any.whl (54 kB)\n",
      "Downloading s3transfer-0.10.4-py3-none-any.whl (83 kB)\n",
      "Downloading typing_inspect-0.9.0-py3-none-any.whl (8.8 kB)\n",
      "Downloading gql-3.5.0-py2.py3-none-any.whl (74 kB)\n",
      "Downloading lxml-5.3.0-cp38-cp38-win_amd64.whl (3.8 MB)\n",
      "   ---------------------------------------- 0.0/3.8 MB ? eta -:--:--\n",
      "   -- ------------------------------------- 0.3/3.8 MB ? eta -:--:--\n",
      "   ----- ---------------------------------- 0.5/3.8 MB 1.7 MB/s eta 0:00:02\n",
      "   -------- ------------------------------- 0.8/3.8 MB 1.7 MB/s eta 0:00:02\n",
      "   ------------- -------------------------- 1.3/3.8 MB 1.7 MB/s eta 0:00:02\n",
      "   ---------------- ----------------------- 1.6/3.8 MB 1.7 MB/s eta 0:00:02\n",
      "   --------------------- ------------------ 2.1/3.8 MB 1.8 MB/s eta 0:00:01\n",
      "   ------------------------ --------------- 2.4/3.8 MB 1.8 MB/s eta 0:00:01\n",
      "   --------------------------- ------------ 2.6/3.8 MB 1.8 MB/s eta 0:00:01\n",
      "   -------------------------------- ------- 3.1/3.8 MB 1.7 MB/s eta 0:00:01\n",
      "   ----------------------------------- ---- 3.4/3.8 MB 1.8 MB/s eta 0:00:01\n",
      "   ---------------------------------------- 3.8/3.8 MB 1.7 MB/s eta 0:00:00\n",
      "Downloading exceptiongroup-1.2.2-py3-none-any.whl (16 kB)\n",
      "Downloading h11-0.14.0-py3-none-any.whl (58 kB)\n",
      "Downloading mypy_extensions-1.0.0-py3-none-any.whl (4.7 kB)\n",
      "Downloading sniffio-1.3.1-py3-none-any.whl (10 kB)\n",
      "Downloading urllib3-1.26.20-py2.py3-none-any.whl (144 kB)\n",
      "Installing collected packages: urllib3, treelib, tenacity, sniffio, pathvalidate, mypy-extensions, marshmallow, lxml, jmespath, h11, graphql-core, exceptiongroup, dacite, backoff, typing-inspect, httpcore, botocore, anyio, s3transfer, requests-toolbelt, httpx, gql, dataclasses-json, dagshub-annotation-converter, boto3, dagshub\n",
      "  Attempting uninstall: urllib3\n",
      "    Found existing installation: urllib3 2.2.3\n",
      "    Uninstalling urllib3-2.2.3:\n",
      "      Successfully uninstalled urllib3-2.2.3\n",
      "Successfully installed anyio-4.5.2 backoff-2.2.1 boto3-1.35.90 botocore-1.35.90 dacite-1.6.0 dagshub-0.4.2 dagshub-annotation-converter-0.1.2 dataclasses-json-0.6.7 exceptiongroup-1.2.2 gql-3.5.0 graphql-core-3.2.5 h11-0.14.0 httpcore-1.0.7 httpx-0.28.1 jmespath-1.0.1 lxml-5.3.0 marshmallow-3.22.0 mypy-extensions-1.0.0 pathvalidate-3.2.1 requests-toolbelt-1.0.0 s3transfer-0.10.4 sniffio-1.3.1 tenacity-9.0.0 treelib-1.7.0 typing-inspect-0.9.0 urllib3-1.26.20\n"
     ]
    }
   ],
   "source": [
    "! pip install dagshub"
   ]
  },
  {
   "cell_type": "code",
   "execution_count": null,
   "metadata": {},
   "outputs": [],
   "source": []
  },
  {
   "cell_type": "code",
   "execution_count": 1,
   "metadata": {},
   "outputs": [],
   "source": [
    "import os"
   ]
  },
  {
   "cell_type": "code",
   "execution_count": 2,
   "metadata": {},
   "outputs": [],
   "source": [
    "os.chdir(\"../\")"
   ]
  },
  {
   "cell_type": "code",
   "execution_count": 73,
   "metadata": {},
   "outputs": [
    {
     "name": "stdout",
     "output_type": "stream",
     "text": [
      "[2024-12-28 20:21:54,300:INFO:_client:HTTP Request: GET https://dagshub.com/api/v1/repos/vinu0404/Mlops_Cancer_classification \"HTTP/1.1 200 OK\"]\n"
     ]
    },
    {
     "data": {
      "text/html": [
       "<pre style=\"white-space:pre;overflow-x:auto;line-height:normal;font-family:Menlo,'DejaVu Sans Mono',consolas,'Courier New',monospace\">Initialized MLflow to track repo <span style=\"color: #008000; text-decoration-color: #008000\">\"vinu0404/Mlops_Cancer_classification\"</span>\n",
       "</pre>\n"
      ],
      "text/plain": [
       "Initialized MLflow to track repo \u001b[32m\"vinu0404/Mlops_Cancer_classification\"\u001b[0m\n"
      ]
     },
     "metadata": {},
     "output_type": "display_data"
    },
    {
     "name": "stdout",
     "output_type": "stream",
     "text": [
      "[2024-12-28 20:21:54,318:INFO:helpers:Initialized MLflow to track repo \"vinu0404/Mlops_Cancer_classification\"]\n"
     ]
    },
    {
     "data": {
      "text/html": [
       "<pre style=\"white-space:pre;overflow-x:auto;line-height:normal;font-family:Menlo,'DejaVu Sans Mono',consolas,'Courier New',monospace\">Repository vinu0404/Mlops_Cancer_classification initialized!\n",
       "</pre>\n"
      ],
      "text/plain": [
       "Repository vinu0404/Mlops_Cancer_classification initialized!\n"
      ]
     },
     "metadata": {},
     "output_type": "display_data"
    },
    {
     "name": "stdout",
     "output_type": "stream",
     "text": [
      "[2024-12-28 20:21:54,325:INFO:helpers:Repository vinu0404/Mlops_Cancer_classification initialized!]\n"
     ]
    }
   ],
   "source": [
    "import dagshub\n",
    "dagshub.init(repo_owner='vinu0404', repo_name='Mlops_Cancer_classification', mlflow=True)\n",
    "\n",
    "import mlflow\n",
    "with mlflow.start_run():\n",
    "  mlflow.log_param('parameter name', 'value')\n",
    "  mlflow.log_metric('metric name', 1)"
   ]
  },
  {
   "cell_type": "code",
   "execution_count": 6,
   "metadata": {},
   "outputs": [],
   "source": [
    "import tensorflow as tf\n"
   ]
  },
  {
   "cell_type": "code",
   "execution_count": 51,
   "metadata": {},
   "outputs": [],
   "source": [
    "import mlflow"
   ]
  },
  {
   "cell_type": "code",
   "execution_count": 52,
   "metadata": {},
   "outputs": [],
   "source": [
    "import mlflow.keras"
   ]
  },
  {
   "cell_type": "code",
   "execution_count": 7,
   "metadata": {},
   "outputs": [],
   "source": [
    "model=tf.keras.models.load_model(\"artifacts/training/trained_model.h5\")"
   ]
  },
  {
   "cell_type": "code",
   "execution_count": 38,
   "metadata": {},
   "outputs": [],
   "source": [
    "from dataclasses import dataclass\n",
    "from pathlib import Path\n",
    "\n",
    "@dataclass(frozen=True)\n",
    "class EvaluationConfig:\n",
    "    path_of_model: Path\n",
    "    training_data: Path\n",
    "    all_params: dict\n",
    "    mlflow_uri: str\n",
    "    params_image_size: list\n",
    "    params_batch_size: int"
   ]
  },
  {
   "cell_type": "code",
   "execution_count": null,
   "metadata": {},
   "outputs": [
    {
     "ename": "ImportError",
     "evalue": "cannot import name 'MLFLOW_UI' from 'src.cnn.constants.constants' (c:\\Users\\PC\\Documents\\mlops\\src\\cnn\\constants\\constants.py)",
     "output_type": "error",
     "traceback": [
      "\u001b[1;31m---------------------------------------------------------------------------\u001b[0m",
      "\u001b[1;31mImportError\u001b[0m                               Traceback (most recent call last)",
      "Cell \u001b[1;32mIn[69], line 4\u001b[0m\n\u001b[0;32m      2\u001b[0m \u001b[38;5;28;01mfrom\u001b[39;00m \u001b[38;5;21;01msrc\u001b[39;00m\u001b[38;5;21;01m.\u001b[39;00m\u001b[38;5;21;01mcnn\u001b[39;00m\u001b[38;5;21;01m.\u001b[39;00m\u001b[38;5;21;01mutils\u001b[39;00m\u001b[38;5;21;01m.\u001b[39;00m\u001b[38;5;21;01mcommon\u001b[39;00m \u001b[38;5;28;01mimport\u001b[39;00m read_yaml,make_dir\n\u001b[0;32m      3\u001b[0m \u001b[38;5;66;03m#from src.cnn.constants.constants import *\u001b[39;00m\n\u001b[1;32m----> 4\u001b[0m \u001b[38;5;28;01mfrom\u001b[39;00m \u001b[38;5;21;01msrc\u001b[39;00m\u001b[38;5;21;01m.\u001b[39;00m\u001b[38;5;21;01mcnn\u001b[39;00m\u001b[38;5;21;01m.\u001b[39;00m\u001b[38;5;21;01mconstants\u001b[39;00m\u001b[38;5;21;01m.\u001b[39;00m\u001b[38;5;21;01mconstants\u001b[39;00m \u001b[38;5;28;01mimport\u001b[39;00m MLFLOW_UI\n\u001b[0;32m      5\u001b[0m \u001b[38;5;28;01mfrom\u001b[39;00m \u001b[38;5;21;01murllib\u001b[39;00m\u001b[38;5;21;01m.\u001b[39;00m\u001b[38;5;21;01mparse\u001b[39;00m \u001b[38;5;28;01mimport\u001b[39;00m urlparse\n",
      "\u001b[1;31mImportError\u001b[0m: cannot import name 'MLFLOW_UI' from 'src.cnn.constants.constants' (c:\\Users\\PC\\Documents\\mlops\\src\\cnn\\constants\\constants.py)"
     ]
    }
   ],
   "source": [
    "from src.cnn.config.configuration import ConfigurationManager\n",
    "from src.cnn.utils.common import read_yaml,make_dir\n",
    "from src.cnn.constants.constants import *\n",
    "#from src.cnn.constants.constants import MLFLOW_UI\n",
    "from urllib.parse import urlparse\n"
   ]
  },
  {
   "cell_type": "code",
   "execution_count": 47,
   "metadata": {},
   "outputs": [],
   "source": [
    "import os\n",
    "from pathlib import Path\n",
    "import yaml\n",
    "import json\n",
    "import joblib\n",
    "import base64\n",
    "from ensure import ensure_annotations\n",
    "from box import ConfigBox\n",
    "from box.exceptions import BoxValueError\n",
    "from cnn import logger\n",
    "\n",
    "def save_json(path:Path,data:dict):\n",
    "    with open(path,\"w\") as f:\n",
    "        json.dump(data,f,indent=4)\n",
    "      #  logger.info(f\"json file save at :{path}\")"
   ]
  },
  {
   "cell_type": "code",
   "execution_count": 71,
   "metadata": {},
   "outputs": [],
   "source": [
    "class ConfigurationManager:\n",
    "    def __init__(\n",
    "        self, \n",
    "        config_filepath = CONFIG_FILE_PATH,\n",
    "        params_filepath = PARAMS_FILE_PATH,\n",
    "        ):\n",
    "        self.config = read_yaml(config_filepath)\n",
    "        self.params = read_yaml(params_filepath)\n",
    "        make_dir([self.config.artifacts_root])\n",
    "\n",
    "    \n",
    "    def get_evaluation_config(self) -> EvaluationConfig:\n",
    "        training_data=os.path.join(self.config.data_ingestion.unzip_dir,\"Chest-CT-Scan-data\")\n",
    "        eval_config = EvaluationConfig(\n",
    "            path_of_model=Path(self.config.training.trained_model_path),\n",
    "            training_data=Path(training_data),\n",
    "            mlflow_uri=\"https://dagshub.com/vinu0404/Mlops_Cancer_classification.mlflow\",\n",
    "            all_params=self.params,\n",
    "            params_image_size=self.params.IMAGE_SIZE,\n",
    "            params_batch_size=self.params.BATCH_SIZE\n",
    "        )\n",
    "        return eval_config\n"
   ]
  },
  {
   "cell_type": "code",
   "execution_count": 49,
   "metadata": {},
   "outputs": [],
   "source": [
    "class Evaluation:\n",
    "    def __init__(self, config: EvaluationConfig):\n",
    "        self.config = config\n",
    "\n",
    "    \n",
    "    def _valid_generator(self):\n",
    "\n",
    "        datagenerator_kwargs = dict(\n",
    "            rescale = 1./255,\n",
    "            validation_split=0.30\n",
    "        )\n",
    "\n",
    "        dataflow_kwargs = dict(\n",
    "            target_size=self.config.params_image_size[:-1],\n",
    "            batch_size=self.config.params_batch_size,\n",
    "            interpolation=\"bilinear\"\n",
    "        )\n",
    "\n",
    "        valid_datagenerator = tf.keras.preprocessing.image.ImageDataGenerator(\n",
    "            **datagenerator_kwargs\n",
    "        )\n",
    "\n",
    "        self.valid_generator = valid_datagenerator.flow_from_directory(\n",
    "            directory=self.config.training_data,\n",
    "            subset=\"validation\",\n",
    "            shuffle=False,\n",
    "            **dataflow_kwargs\n",
    "        )\n",
    "\n",
    "\n",
    "    @staticmethod\n",
    "    def load_model(path: Path) -> tf.keras.Model:\n",
    "        return tf.keras.models.load_model(path)\n",
    "    \n",
    "\n",
    "    def evaluation(self):\n",
    "        self.model = self.load_model(self.config.path_of_model)\n",
    "        self._valid_generator()\n",
    "        self.score = model.evaluate(self.valid_generator)\n",
    "        self.save_score()\n",
    "\n",
    "    def save_score(self):\n",
    "        scores = {\"loss\": self.score[0], \"accuracy\": self.score[1]}\n",
    "        save_json(path=Path(\"scores.json\"), data=scores)\n",
    "\n",
    "    \n",
    "    def log_into_mlflow(self):\n",
    "        mlflow.set_registry_uri(self.config.mlflow_uri)\n",
    "        print(f\"{mlflow.set_registry_uri(self.config.mlflow_uri)}\")\n",
    "        tracking_url_type_store = urlparse(mlflow.get_tracking_uri()).scheme\n",
    "        \n",
    "        with mlflow.start_run():\n",
    "            mlflow.log_params(self.config.all_params)\n",
    "            print(f\"{mlflow.log_params(self.config.all_params)}\")\n",
    "            mlflow.log_metrics(\n",
    "                {\"loss\": self.score[0], \"accuracy\": self.score[1]}\n",
    "            )\n",
    "            # Model registry does not work with file store\n",
    "            if tracking_url_type_store != \"file\":\n",
    "\n",
    "                # Register the model\n",
    "                # There are other ways to use the Model Registry, which depends on the use case,\n",
    "                # please refer to the doc for more information:\n",
    "                # https://mlflow.org/docs/latest/model-registry.html#api-workflow\n",
    "                mlflow.keras.log_model(self.model, \"model\", registered_model_name=\"vin\")\n",
    "                print(f\"vin completed\")\n",
    "            else:\n",
    "                mlflow.keras.log_model(self.model, \"model\")"
   ]
  },
  {
   "cell_type": "code",
   "execution_count": 72,
   "metadata": {},
   "outputs": [
    {
     "name": "stdout",
     "output_type": "stream",
     "text": [
      "[2024-12-28 19:44:40,314:INFO:common:YAML file loaded successfully from config\\config.yaml]\n",
      "[2024-12-28 19:44:40,326:INFO:common:YAML file loaded successfully from params.yaml]\n",
      "[2024-12-28 19:44:40,329:INFO:common:directory created at artifacts]\n"
     ]
    },
    {
     "name": "stdout",
     "output_type": "stream",
     "text": [
      "Found 102 images belonging to 2 classes.\n",
      "7/7 [==============================] - 23s 3s/step - loss: 15.0486 - accuracy: 0.4314\n"
     ]
    },
    {
     "name": "stderr",
     "output_type": "stream",
     "text": [
      "2024/12/28 19:45:05 WARNING mlflow.tensorflow: You are saving a TensorFlow Core model or Keras model without a signature. Inference with mlflow.pyfunc.spark_udf() will not work unless the model's pyfunc representation accepts pandas DataFrames as inference inputs.\n"
     ]
    },
    {
     "name": "stdout",
     "output_type": "stream",
     "text": [
      "[2024-12-28 19:45:07,534:WARNING:save:Found untraced functions such as _jit_compiled_convolution_op, _jit_compiled_convolution_op, _jit_compiled_convolution_op, _jit_compiled_convolution_op, _jit_compiled_convolution_op while saving (showing 5 of 14). These functions will not be directly callable after loading.]\n",
      "INFO:tensorflow:Assets written to: C:\\Users\\PC\\AppData\\Local\\Temp\\tmpr5ewtrvp\\model\\data\\model\\assets\n",
      "[2024-12-28 19:45:08,729:INFO:builder_impl:Assets written to: C:\\Users\\PC\\AppData\\Local\\Temp\\tmpr5ewtrvp\\model\\data\\model\\assets]\n"
     ]
    },
    {
     "name": "stderr",
     "output_type": "stream",
     "text": [
      "Registered model 'VGG16Model' already exists. Creating a new version of this model...\n",
      "2024/12/28 19:46:03 INFO mlflow.tracking._model_registry.client: Waiting up to 300 seconds for model version to finish creation.                     Model name: VGG16Model, version 4\n",
      "Created version '4' of model 'VGG16Model'.\n"
     ]
    }
   ],
   "source": [
    "try:\n",
    "    config = ConfigurationManager()\n",
    "    eval_config = config.get_evaluation_config()\n",
    "    evaluation = Evaluation(eval_config)\n",
    "    evaluation.evaluation()\n",
    "    evaluation.log_into_mlflow()\n",
    "\n",
    "except Exception as e:\n",
    "   raise e"
   ]
  },
  {
   "cell_type": "code",
   "execution_count": null,
   "metadata": {},
   "outputs": [],
   "source": [
    "from mlflow.tracking import MlflowClient"
   ]
  },
  {
   "cell_type": "code",
   "execution_count": null,
   "metadata": {},
   "outputs": [
    {
     "ename": "RestException",
     "evalue": "RESOURCE_DOES_NOT_EXIST: Response: {'error_code': 'RESOURCE_DOES_NOT_EXIST'}",
     "output_type": "error",
     "traceback": [
      "\u001b[1;31m---------------------------------------------------------------------------\u001b[0m",
      "\u001b[1;31mRestException\u001b[0m                             Traceback (most recent call last)",
      "Cell \u001b[1;32mIn[60], line 2\u001b[0m\n\u001b[0;32m      1\u001b[0m client \u001b[38;5;241m=\u001b[39m MlflowClient()\n\u001b[1;32m----> 2\u001b[0m \u001b[43mclient\u001b[49m\u001b[38;5;241;43m.\u001b[39;49m\u001b[43mtransition_model_version_stage\u001b[49m\u001b[43m(\u001b[49m\n\u001b[0;32m      3\u001b[0m \u001b[43m    \u001b[49m\u001b[43mname\u001b[49m\u001b[38;5;241;43m=\u001b[39;49m\u001b[38;5;124;43m\"\u001b[39;49m\u001b[38;5;124;43mVGG16Model\u001b[39;49m\u001b[38;5;124;43m\"\u001b[39;49m\u001b[43m,\u001b[49m\u001b[43m \u001b[49m\u001b[43mversion\u001b[49m\u001b[38;5;241;43m=\u001b[39;49m\u001b[38;5;241;43m4\u001b[39;49m\u001b[43m,\u001b[49m\u001b[43m \u001b[49m\u001b[43mstage\u001b[49m\u001b[38;5;241;43m=\u001b[39;49m\u001b[38;5;124;43m\"\u001b[39;49m\u001b[38;5;124;43mProduction\u001b[39;49m\u001b[38;5;124;43m\"\u001b[39;49m\n\u001b[0;32m      4\u001b[0m \u001b[43m)\u001b[49m\n",
      "File \u001b[1;32mc:\\Users\\PC\\anaconda3\\envs\\myenv\\lib\\site-packages\\mlflow\\tracking\\client.py:2449\u001b[0m, in \u001b[0;36mMlflowClient.transition_model_version_stage\u001b[1;34m(self, name, version, stage, archive_existing_versions)\u001b[0m\n\u001b[0;32m   2381\u001b[0m \u001b[38;5;28;01mdef\u001b[39;00m \u001b[38;5;21mtransition_model_version_stage\u001b[39m(\n\u001b[0;32m   2382\u001b[0m     \u001b[38;5;28mself\u001b[39m, name: \u001b[38;5;28mstr\u001b[39m, version: \u001b[38;5;28mstr\u001b[39m, stage: \u001b[38;5;28mstr\u001b[39m, archive_existing_versions: \u001b[38;5;28mbool\u001b[39m \u001b[38;5;241m=\u001b[39m \u001b[38;5;28;01mFalse\u001b[39;00m\n\u001b[0;32m   2383\u001b[0m ) \u001b[38;5;241m-\u001b[39m\u001b[38;5;241m>\u001b[39m ModelVersion:\n\u001b[0;32m   2384\u001b[0m \u001b[38;5;250m    \u001b[39m\u001b[38;5;124;03m\"\"\"\u001b[39;00m\n\u001b[0;32m   2385\u001b[0m \u001b[38;5;124;03m    Update model version stage.\u001b[39;00m\n\u001b[0;32m   2386\u001b[0m \n\u001b[1;32m   (...)\u001b[0m\n\u001b[0;32m   2447\u001b[0m \u001b[38;5;124;03m        Stage: Staging\u001b[39;00m\n\u001b[0;32m   2448\u001b[0m \u001b[38;5;124;03m    \"\"\"\u001b[39;00m\n\u001b[1;32m-> 2449\u001b[0m     \u001b[38;5;28;01mreturn\u001b[39;00m \u001b[38;5;28;43mself\u001b[39;49m\u001b[38;5;241;43m.\u001b[39;49m\u001b[43m_get_registry_client\u001b[49m\u001b[43m(\u001b[49m\u001b[43m)\u001b[49m\u001b[38;5;241;43m.\u001b[39;49m\u001b[43mtransition_model_version_stage\u001b[49m\u001b[43m(\u001b[49m\n\u001b[0;32m   2450\u001b[0m \u001b[43m        \u001b[49m\u001b[43mname\u001b[49m\u001b[43m,\u001b[49m\u001b[43m \u001b[49m\u001b[43mversion\u001b[49m\u001b[43m,\u001b[49m\u001b[43m \u001b[49m\u001b[43mstage\u001b[49m\u001b[43m,\u001b[49m\u001b[43m \u001b[49m\u001b[43marchive_existing_versions\u001b[49m\n\u001b[0;32m   2451\u001b[0m \u001b[43m    \u001b[49m\u001b[43m)\u001b[49m\n",
      "File \u001b[1;32mc:\\Users\\PC\\anaconda3\\envs\\myenv\\lib\\site-packages\\mlflow\\tracking\\_model_registry\\client.py:247\u001b[0m, in \u001b[0;36mModelRegistryClient.transition_model_version_stage\u001b[1;34m(self, name, version, stage, archive_existing_versions)\u001b[0m\n\u001b[0;32m    245\u001b[0m \u001b[38;5;28;01mif\u001b[39;00m stage\u001b[38;5;241m.\u001b[39mstrip() \u001b[38;5;241m==\u001b[39m \u001b[38;5;124m\"\u001b[39m\u001b[38;5;124m\"\u001b[39m:\n\u001b[0;32m    246\u001b[0m     \u001b[38;5;28;01mraise\u001b[39;00m MlflowException(\u001b[38;5;124m\"\u001b[39m\u001b[38;5;124mThe stage must not be an empty string.\u001b[39m\u001b[38;5;124m\"\u001b[39m)\n\u001b[1;32m--> 247\u001b[0m \u001b[38;5;28;01mreturn\u001b[39;00m \u001b[38;5;28;43mself\u001b[39;49m\u001b[38;5;241;43m.\u001b[39;49m\u001b[43mstore\u001b[49m\u001b[38;5;241;43m.\u001b[39;49m\u001b[43mtransition_model_version_stage\u001b[49m\u001b[43m(\u001b[49m\n\u001b[0;32m    248\u001b[0m \u001b[43m    \u001b[49m\u001b[43mname\u001b[49m\u001b[38;5;241;43m=\u001b[39;49m\u001b[43mname\u001b[49m\u001b[43m,\u001b[49m\n\u001b[0;32m    249\u001b[0m \u001b[43m    \u001b[49m\u001b[43mversion\u001b[49m\u001b[38;5;241;43m=\u001b[39;49m\u001b[43mversion\u001b[49m\u001b[43m,\u001b[49m\n\u001b[0;32m    250\u001b[0m \u001b[43m    \u001b[49m\u001b[43mstage\u001b[49m\u001b[38;5;241;43m=\u001b[39;49m\u001b[43mstage\u001b[49m\u001b[43m,\u001b[49m\n\u001b[0;32m    251\u001b[0m \u001b[43m    \u001b[49m\u001b[43marchive_existing_versions\u001b[49m\u001b[38;5;241;43m=\u001b[39;49m\u001b[43marchive_existing_versions\u001b[49m\u001b[43m,\u001b[49m\n\u001b[0;32m    252\u001b[0m \u001b[43m\u001b[49m\u001b[43m)\u001b[49m\n",
      "File \u001b[1;32mc:\\Users\\PC\\anaconda3\\envs\\myenv\\lib\\site-packages\\mlflow\\store\\model_registry\\rest_store.py:247\u001b[0m, in \u001b[0;36mRestStore.transition_model_version_stage\u001b[1;34m(self, name, version, stage, archive_existing_versions)\u001b[0m\n\u001b[0;32m    227\u001b[0m \u001b[38;5;250m\u001b[39m\u001b[38;5;124;03m\"\"\"\u001b[39;00m\n\u001b[0;32m    228\u001b[0m \u001b[38;5;124;03mUpdate model version stage.\u001b[39;00m\n\u001b[0;32m    229\u001b[0m \n\u001b[1;32m   (...)\u001b[0m\n\u001b[0;32m    237\u001b[0m \u001b[38;5;124;03m:return: A single :py:class:`mlflow.entities.model_registry.ModelVersion` object.\u001b[39;00m\n\u001b[0;32m    238\u001b[0m \u001b[38;5;124;03m\"\"\"\u001b[39;00m\n\u001b[0;32m    239\u001b[0m req_body \u001b[38;5;241m=\u001b[39m message_to_json(\n\u001b[0;32m    240\u001b[0m     TransitionModelVersionStage(\n\u001b[0;32m    241\u001b[0m         name\u001b[38;5;241m=\u001b[39mname,\n\u001b[1;32m   (...)\u001b[0m\n\u001b[0;32m    245\u001b[0m     )\n\u001b[0;32m    246\u001b[0m )\n\u001b[1;32m--> 247\u001b[0m response_proto \u001b[38;5;241m=\u001b[39m \u001b[38;5;28;43mself\u001b[39;49m\u001b[38;5;241;43m.\u001b[39;49m\u001b[43m_call_endpoint\u001b[49m\u001b[43m(\u001b[49m\u001b[43mTransitionModelVersionStage\u001b[49m\u001b[43m,\u001b[49m\u001b[43m \u001b[49m\u001b[43mreq_body\u001b[49m\u001b[43m)\u001b[49m\n\u001b[0;32m    248\u001b[0m \u001b[38;5;28;01mreturn\u001b[39;00m ModelVersion\u001b[38;5;241m.\u001b[39mfrom_proto(response_proto\u001b[38;5;241m.\u001b[39mmodel_version)\n",
      "File \u001b[1;32mc:\\Users\\PC\\anaconda3\\envs\\myenv\\lib\\site-packages\\mlflow\\store\\model_registry\\base_rest_store.py:42\u001b[0m, in \u001b[0;36mBaseRestStore._call_endpoint\u001b[1;34m(self, api, json_body, call_all_endpoints)\u001b[0m\n\u001b[0;32m     40\u001b[0m \u001b[38;5;28;01melse\u001b[39;00m:\n\u001b[0;32m     41\u001b[0m     endpoint, method \u001b[38;5;241m=\u001b[39m \u001b[38;5;28mself\u001b[39m\u001b[38;5;241m.\u001b[39m_get_endpoint_from_method(api)\n\u001b[1;32m---> 42\u001b[0m     \u001b[38;5;28;01mreturn\u001b[39;00m \u001b[43mcall_endpoint\u001b[49m\u001b[43m(\u001b[49m\u001b[38;5;28;43mself\u001b[39;49m\u001b[38;5;241;43m.\u001b[39;49m\u001b[43mget_host_creds\u001b[49m\u001b[43m(\u001b[49m\u001b[43m)\u001b[49m\u001b[43m,\u001b[49m\u001b[43m \u001b[49m\u001b[43mendpoint\u001b[49m\u001b[43m,\u001b[49m\u001b[43m \u001b[49m\u001b[43mmethod\u001b[49m\u001b[43m,\u001b[49m\u001b[43m \u001b[49m\u001b[43mjson_body\u001b[49m\u001b[43m,\u001b[49m\u001b[43m \u001b[49m\u001b[43mresponse_proto\u001b[49m\u001b[43m)\u001b[49m\n",
      "File \u001b[1;32mc:\\Users\\PC\\anaconda3\\envs\\myenv\\lib\\site-packages\\mlflow\\utils\\rest_utils.py:281\u001b[0m, in \u001b[0;36mcall_endpoint\u001b[1;34m(host_creds, endpoint, method, json_body, response_proto)\u001b[0m\n\u001b[0;32m    277\u001b[0m \u001b[38;5;28;01melse\u001b[39;00m:\n\u001b[0;32m    278\u001b[0m     response \u001b[38;5;241m=\u001b[39m http_request(\n\u001b[0;32m    279\u001b[0m         host_creds\u001b[38;5;241m=\u001b[39mhost_creds, endpoint\u001b[38;5;241m=\u001b[39mendpoint, method\u001b[38;5;241m=\u001b[39mmethod, json\u001b[38;5;241m=\u001b[39mjson_body\n\u001b[0;32m    280\u001b[0m     )\n\u001b[1;32m--> 281\u001b[0m response \u001b[38;5;241m=\u001b[39m \u001b[43mverify_rest_response\u001b[49m\u001b[43m(\u001b[49m\u001b[43mresponse\u001b[49m\u001b[43m,\u001b[49m\u001b[43m \u001b[49m\u001b[43mendpoint\u001b[49m\u001b[43m)\u001b[49m\n\u001b[0;32m    282\u001b[0m js_dict \u001b[38;5;241m=\u001b[39m json\u001b[38;5;241m.\u001b[39mloads(response\u001b[38;5;241m.\u001b[39mtext)\n\u001b[0;32m    283\u001b[0m parse_dict(js_dict\u001b[38;5;241m=\u001b[39mjs_dict, message\u001b[38;5;241m=\u001b[39mresponse_proto)\n",
      "File \u001b[1;32mc:\\Users\\PC\\anaconda3\\envs\\myenv\\lib\\site-packages\\mlflow\\utils\\rest_utils.py:207\u001b[0m, in \u001b[0;36mverify_rest_response\u001b[1;34m(response, endpoint)\u001b[0m\n\u001b[0;32m    205\u001b[0m \u001b[38;5;28;01mif\u001b[39;00m response\u001b[38;5;241m.\u001b[39mstatus_code \u001b[38;5;241m!=\u001b[39m \u001b[38;5;241m200\u001b[39m:\n\u001b[0;32m    206\u001b[0m     \u001b[38;5;28;01mif\u001b[39;00m _can_parse_as_json_object(response\u001b[38;5;241m.\u001b[39mtext):\n\u001b[1;32m--> 207\u001b[0m         \u001b[38;5;28;01mraise\u001b[39;00m RestException(json\u001b[38;5;241m.\u001b[39mloads(response\u001b[38;5;241m.\u001b[39mtext))\n\u001b[0;32m    208\u001b[0m     \u001b[38;5;28;01melse\u001b[39;00m:\n\u001b[0;32m    209\u001b[0m         base_msg \u001b[38;5;241m=\u001b[39m \u001b[38;5;124m\"\u001b[39m\u001b[38;5;124mAPI request to endpoint \u001b[39m\u001b[38;5;132;01m{}\u001b[39;00m\u001b[38;5;124m failed with error code \u001b[39m\u001b[38;5;132;01m{}\u001b[39;00m\u001b[38;5;124m != 200\u001b[39m\u001b[38;5;124m\"\u001b[39m\u001b[38;5;241m.\u001b[39mformat(\n\u001b[0;32m    210\u001b[0m             endpoint,\n\u001b[0;32m    211\u001b[0m             response\u001b[38;5;241m.\u001b[39mstatus_code,\n\u001b[0;32m    212\u001b[0m         )\n",
      "\u001b[1;31mRestException\u001b[0m: RESOURCE_DOES_NOT_EXIST: Response: {'error_code': 'RESOURCE_DOES_NOT_EXIST'}"
     ]
    }
   ],
   "source": [
    "client = MlflowClient()\n",
    "client.transition_model_version_stage(\n",
    "    name=\"VGG16Model\", version=4, stage=\"Production\"\n",
    ")"
   ]
  },
  {
   "cell_type": "code",
   "execution_count": 1,
   "metadata": {},
   "outputs": [
    {
     "name": "stdout",
     "output_type": "stream",
     "text": [
      "Collecting python-dotenv\n",
      "  Downloading python_dotenv-1.0.1-py3-none-any.whl.metadata (23 kB)\n",
      "Downloading python_dotenv-1.0.1-py3-none-any.whl (19 kB)\n",
      "Installing collected packages: python-dotenv\n",
      "Successfully installed python-dotenv-1.0.1\n"
     ]
    }
   ],
   "source": [
    "! pip install python-dotenv\n"
   ]
  }
 ],
 "metadata": {
  "kernelspec": {
   "display_name": "myenv",
   "language": "python",
   "name": "python3"
  },
  "language_info": {
   "codemirror_mode": {
    "name": "ipython",
    "version": 3
   },
   "file_extension": ".py",
   "mimetype": "text/x-python",
   "name": "python",
   "nbconvert_exporter": "python",
   "pygments_lexer": "ipython3",
   "version": "3.8.20"
  }
 },
 "nbformat": 4,
 "nbformat_minor": 2
}
